{
 "cells": [
  {
   "cell_type": "code",
   "execution_count": 1,
   "metadata": {},
   "outputs": [],
   "source": [
    "cap program drop sample_demo\n",
    "\tprogram sample_demo\n",
    "\n",
    "\tsyntax , [*]\n",
    "\n",
    "\t\tcap gen treatment = rnormal() > 0\n",
    "\t\tif _rc > 0 {\n",
    "\t\t\treplace treatment = rnormal() > 0\n",
    "\t\t}\n",
    "\tend"
   ]
  },
  {
   "cell_type": "code",
   "execution_count": 2,
   "metadata": {},
   "outputs": [
    {
     "name": "stdout",
     "output_type": "stream",
     "text": [
      "\n",
      "\n",
      "number of observations (_N) was 0, now 100\n",
      "\n"
     ]
    }
   ],
   "source": [
    "clear\n",
    "\tset obs 100\n",
    "\tgen outcome = rnormal()"
   ]
  },
  {
   "cell_type": "code",
   "execution_count": 3,
   "metadata": {},
   "outputs": [],
   "source": [
    "sample_demo"
   ]
  },
  {
   "cell_type": "code",
   "execution_count": 4,
   "metadata": {},
   "outputs": [
    {
     "name": "stdout",
     "output_type": "stream",
     "text": [
      "\n",
      ". ritest treatment _b[treatment]          , reps(50) samplingprogram(sample_demo\n",
      "> )                 kdens kdensityop(${graph_opts} xscale(line) lc(black) lw(thi\n",
      "> ck))                : regress outcome treatment\n",
      "(running regress on estimation sample)\n",
      ". regress outcome treatment\n",
      "\n",
      "      Source |       SS           df       MS      Number of obs   =       100\n",
      "-------------+----------------------------------   F(1, 98)        =      0.00\n",
      "       Model |  .004194807         1  .004194807   Prob > F        =    0.9468\n",
      "    Residual |  91.9387267        98  .938150272   R-squared       =    0.0000\n",
      "-------------+----------------------------------   Adj R-squared   =   -0.0102\n",
      "       Total |  91.9429215        99  .928716379   Root MSE        =    .96858\n",
      "\n",
      "------------------------------------------------------------------------------\n",
      "     outcome |      Coef.   Std. Err.      t    P>|t|     [95% Conf. Interval]\n",
      "-------------+----------------------------------------------------------------\n",
      "   treatment |  -.0129561   .1937551    -0.07   0.947    -.3974567    .3715446\n",
      "       _cons |  -.1379617   .1383688    -1.00   0.321    -.4125501    .1366267\n",
      "------------------------------------------------------------------------------\n",
      "\n",
      "Resampling replications (50)\n",
      "----+--- 1 ---+--- 2 ---+--- 3 ---+--- 4 ---+--- 5 \n",
      "..................................................    50\n",
      "\n",
      "      command:  regress outcome treatment\n",
      "        _pm_1:  _b[treatment]\n",
      "  res. var(s):  treatment\n",
      "   Resampling:  Using a user-specified program\n",
      "\n",
      "------------------------------------------------------------------------------\n",
      "T            |     T(obs)       c       n   p=c/n   SE(p) [95% Conf. Interval]\n",
      "-------------+----------------------------------------------------------------\n",
      "       _pm_1 |  -.0129561      44      50  0.8800  0.0460  .7568987   .9546647\n",
      "------------------------------------------------------------------------------\n",
      "Note: Confidence interval is with respect to p=c/n.\n",
      "Note: c = #{|T| >= |T(obs)|}\n"
     ]
    }
   ],
   "source": [
    "ritest treatment _b[treatment] ///\n",
    "\t\t, reps(50) samplingprogram(sample_demo) ///\n",
    "\t\tkdens kdensityop(${graph_opts} xscale(line) lc(black) lw(thick)) ///\n",
    "\t\t: regress outcome treatment"
   ]
  },
  {
   "cell_type": "code",
   "execution_count": 5,
   "metadata": {},
   "outputs": [
    {
     "name": "stdout",
     "output_type": "stream",
     "text": [
      "(file test.gph saved)\n"
     ]
    }
   ],
   "source": [
    "graph save test.gph , replace"
   ]
  },
  {
   "cell_type": "code",
   "execution_count": 6,
   "metadata": {},
   "outputs": [
    {
     "data": {
      "image/svg+xml": [
       "<?xml version=\"1.0\" encoding=\"UTF-8\" standalone=\"no\"?>\n",
       "<!-- This is a Stata 15.1 generated SVG file (http://www.stata.com) -->\n",
       "\n",
       "<svg version=\"1.1\" width=\"600px\" height=\"436px\" viewBox=\"0 0 3960 2880\" xmlns=\"http://www.w3.org/2000/svg\" xmlns:xlink=\"http://www.w3.org/1999/xlink\">\n",
       "\t<desc>Stata Graph - _pm_1</desc>\n",
       "\t<rect x=\"0\" y=\"0\" width=\"3960\" height=\"2880\" style=\"fill:#EAF2F3;stroke:none\"/>\n",
       "\t<rect x=\"0.00\" y=\"0.00\" width=\"3959.88\" height=\"2880.00\" style=\"fill:#FFFFFF\"/>\n",
       "\t<rect x=\"2.88\" y=\"2.88\" width=\"3954.12\" height=\"2874.24\" style=\"fill:none;stroke:#FFFFFF;stroke-width:5.76\"/>\n",
       "\t<rect x=\"390.80\" y=\"275.35\" width=\"3468.22\" height=\"2099.36\" style=\"fill:#FFFFFF\"/>\n",
       "\t<rect x=\"393.68\" y=\"278.23\" width=\"3462.46\" height=\"2093.60\" style=\"fill:none;stroke:#FFFFFF;stroke-width:5.76\"/>\n",
       "\t<line x1=\"390.80\" y1=\"2311.35\" x2=\"3859.02\" y2=\"2311.35\" style=\"stroke:#EAF2F3;stroke-width:8.64\"/>\n",
       "\t<line x1=\"390.80\" y1=\"1834.77\" x2=\"3859.02\" y2=\"1834.77\" style=\"stroke:#EAF2F3;stroke-width:8.64\"/>\n",
       "\t<line x1=\"390.80\" y1=\"1358.20\" x2=\"3859.02\" y2=\"1358.20\" style=\"stroke:#EAF2F3;stroke-width:8.64\"/>\n",
       "\t<line x1=\"390.80\" y1=\"881.62\" x2=\"3859.02\" y2=\"881.62\" style=\"stroke:#EAF2F3;stroke-width:8.64\"/>\n",
       "\t<line x1=\"390.80\" y1=\"405.05\" x2=\"3859.02\" y2=\"405.05\" style=\"stroke:#EAF2F3;stroke-width:8.64\"/>\n",
       "\t<line x1=\"2141.74\" y1=\"2374.71\" x2=\"2141.74\" y2=\"275.35\" style=\"stroke:#C10534;stroke-width:8.64\"/>\n",
       "\t<line x1=\"454.04\" y1=\"2220.52\" x2=\"522.23\" y2=\"2194.65\" stroke-linecap=\"round\" style=\"stroke:#000000;stroke-width:23.04\"/>\n",
       "\t<line x1=\"522.23\" y1=\"2194.65\" x2=\"590.41\" y2=\"2173.74\" stroke-linecap=\"round\" style=\"stroke:#000000;stroke-width:23.04\"/>\n",
       "\t<line x1=\"590.41\" y1=\"2173.74\" x2=\"658.72\" y2=\"2157.65\" stroke-linecap=\"round\" style=\"stroke:#000000;stroke-width:23.04\"/>\n",
       "\t<line x1=\"658.72\" y1=\"2157.65\" x2=\"726.91\" y2=\"2146.51\" stroke-linecap=\"round\" style=\"stroke:#000000;stroke-width:23.04\"/>\n",
       "\t<line x1=\"726.91\" y1=\"2146.51\" x2=\"795.09\" y2=\"2118.54\" stroke-linecap=\"round\" style=\"stroke:#000000;stroke-width:23.04\"/>\n",
       "\t<line x1=\"795.09\" y1=\"2118.54\" x2=\"863.28\" y2=\"2011.37\" stroke-linecap=\"round\" style=\"stroke:#000000;stroke-width:23.04\"/>\n",
       "\t<line x1=\"863.28\" y1=\"2011.37\" x2=\"931.47\" y2=\"1905.81\" stroke-linecap=\"round\" style=\"stroke:#000000;stroke-width:23.04\"/>\n",
       "\t<line x1=\"931.47\" y1=\"1905.81\" x2=\"999.65\" y2=\"1771.54\" stroke-linecap=\"round\" style=\"stroke:#000000;stroke-width:23.04\"/>\n",
       "\t<line x1=\"999.65\" y1=\"1771.54\" x2=\"1067.84\" y2=\"1642.83\" stroke-linecap=\"round\" style=\"stroke:#000000;stroke-width:23.04\"/>\n",
       "\t<line x1=\"1067.84\" y1=\"1642.83\" x2=\"1136.03\" y2=\"1509.05\" stroke-linecap=\"round\" style=\"stroke:#000000;stroke-width:23.04\"/>\n",
       "\t<line x1=\"1136.03\" y1=\"1509.05\" x2=\"1204.21\" y2=\"1388.15\" stroke-linecap=\"round\" style=\"stroke:#000000;stroke-width:23.04\"/>\n",
       "\t<line x1=\"1204.21\" y1=\"1388.15\" x2=\"1272.40\" y2=\"1225.29\" stroke-linecap=\"round\" style=\"stroke:#000000;stroke-width:23.04\"/>\n",
       "\t<line x1=\"1272.40\" y1=\"1225.29\" x2=\"1340.58\" y2=\"1084.70\" stroke-linecap=\"round\" style=\"stroke:#000000;stroke-width:23.04\"/>\n",
       "\t<line x1=\"1340.58\" y1=\"1084.70\" x2=\"1408.77\" y2=\"959.46\" stroke-linecap=\"round\" style=\"stroke:#000000;stroke-width:23.04\"/>\n",
       "\t<line x1=\"1408.77\" y1=\"959.46\" x2=\"1476.96\" y2=\"851.43\" stroke-linecap=\"round\" style=\"stroke:#000000;stroke-width:23.04\"/>\n",
       "\t<line x1=\"1476.96\" y1=\"851.43\" x2=\"1545.27\" y2=\"768.64\" stroke-linecap=\"round\" style=\"stroke:#000000;stroke-width:23.04\"/>\n",
       "\t<line x1=\"1545.27\" y1=\"768.64\" x2=\"1613.45\" y2=\"691.91\" stroke-linecap=\"round\" style=\"stroke:#000000;stroke-width:23.04\"/>\n",
       "\t<line x1=\"1613.45\" y1=\"691.91\" x2=\"1681.64\" y2=\"565.56\" stroke-linecap=\"round\" style=\"stroke:#000000;stroke-width:23.04\"/>\n",
       "\t<line x1=\"1681.64\" y1=\"565.56\" x2=\"1749.83\" y2=\"476.33\" stroke-linecap=\"round\" style=\"stroke:#000000;stroke-width:23.04\"/>\n",
       "\t<line x1=\"1749.83\" y1=\"476.33\" x2=\"1818.01\" y2=\"419.77\" stroke-linecap=\"round\" style=\"stroke:#000000;stroke-width:23.04\"/>\n",
       "\t<line x1=\"1818.01\" y1=\"419.77\" x2=\"1886.20\" y2=\"405.54\" stroke-linecap=\"round\" style=\"stroke:#000000;stroke-width:23.04\"/>\n",
       "\t<line x1=\"1886.20\" y1=\"405.54\" x2=\"1954.38\" y2=\"422.25\" stroke-linecap=\"round\" style=\"stroke:#000000;stroke-width:23.04\"/>\n",
       "\t<line x1=\"1954.38\" y1=\"422.25\" x2=\"2022.57\" y2=\"387.60\" stroke-linecap=\"round\" style=\"stroke:#000000;stroke-width:23.04\"/>\n",
       "\t<line x1=\"2022.57\" y1=\"387.60\" x2=\"2090.76\" y2=\"358.51\" stroke-linecap=\"round\" style=\"stroke:#000000;stroke-width:23.04\"/>\n",
       "\t<line x1=\"2090.76\" y1=\"358.51\" x2=\"2158.94\" y2=\"338.84\" stroke-linecap=\"round\" style=\"stroke:#000000;stroke-width:23.04\"/>\n",
       "\t<line x1=\"2158.94\" y1=\"338.84\" x2=\"2227.13\" y2=\"345.27\" stroke-linecap=\"round\" style=\"stroke:#000000;stroke-width:23.04\"/>\n",
       "\t<line x1=\"2227.13\" y1=\"345.27\" x2=\"2295.32\" y2=\"355.54\" stroke-linecap=\"round\" style=\"stroke:#000000;stroke-width:23.04\"/>\n",
       "\t<line x1=\"2295.32\" y1=\"355.54\" x2=\"2363.50\" y2=\"409.75\" stroke-linecap=\"round\" style=\"stroke:#000000;stroke-width:23.04\"/>\n",
       "\t<line x1=\"2363.50\" y1=\"409.75\" x2=\"2431.69\" y2=\"429.80\" stroke-linecap=\"round\" style=\"stroke:#000000;stroke-width:23.04\"/>\n",
       "\t<line x1=\"2431.69\" y1=\"429.80\" x2=\"2500.00\" y2=\"481.65\" stroke-linecap=\"round\" style=\"stroke:#000000;stroke-width:23.04\"/>\n",
       "\t<line x1=\"2500.00\" y1=\"481.65\" x2=\"2568.18\" y2=\"585.48\" stroke-linecap=\"round\" style=\"stroke:#000000;stroke-width:23.04\"/>\n",
       "\t<line x1=\"2568.18\" y1=\"585.48\" x2=\"2636.37\" y2=\"727.92\" stroke-linecap=\"round\" style=\"stroke:#000000;stroke-width:23.04\"/>\n",
       "\t<line x1=\"2636.37\" y1=\"727.92\" x2=\"2704.56\" y2=\"897.96\" stroke-linecap=\"round\" style=\"stroke:#000000;stroke-width:23.04\"/>\n",
       "\t<line x1=\"2704.56\" y1=\"897.96\" x2=\"2772.74\" y2=\"1106.85\" stroke-linecap=\"round\" style=\"stroke:#000000;stroke-width:23.04\"/>\n",
       "\t<line x1=\"2772.74\" y1=\"1106.85\" x2=\"2840.93\" y2=\"1238.90\" stroke-linecap=\"round\" style=\"stroke:#000000;stroke-width:23.04\"/>\n",
       "\t<line x1=\"2840.93\" y1=\"1238.90\" x2=\"2909.11\" y2=\"1339.64\" stroke-linecap=\"round\" style=\"stroke:#000000;stroke-width:23.04\"/>\n",
       "\t<line x1=\"2909.11\" y1=\"1339.64\" x2=\"2977.30\" y2=\"1432.70\" stroke-linecap=\"round\" style=\"stroke:#000000;stroke-width:23.04\"/>\n",
       "\t<line x1=\"2977.30\" y1=\"1432.70\" x2=\"3045.49\" y2=\"1514.50\" stroke-linecap=\"round\" style=\"stroke:#000000;stroke-width:23.04\"/>\n",
       "\t<line x1=\"3045.49\" y1=\"1514.50\" x2=\"3113.67\" y2=\"1606.70\" stroke-linecap=\"round\" style=\"stroke:#000000;stroke-width:23.04\"/>\n",
       "\t<line x1=\"3113.67\" y1=\"1606.70\" x2=\"3181.86\" y2=\"1674.64\" stroke-linecap=\"round\" style=\"stroke:#000000;stroke-width:23.04\"/>\n",
       "\t<line x1=\"3181.86\" y1=\"1674.64\" x2=\"3250.05\" y2=\"1745.05\" stroke-linecap=\"round\" style=\"stroke:#000000;stroke-width:23.04\"/>\n",
       "\t<line x1=\"3250.05\" y1=\"1745.05\" x2=\"3318.23\" y2=\"1798.64\" stroke-linecap=\"round\" style=\"stroke:#000000;stroke-width:23.04\"/>\n",
       "\t<line x1=\"3318.23\" y1=\"1798.64\" x2=\"3386.54\" y2=\"1866.46\" stroke-linecap=\"round\" style=\"stroke:#000000;stroke-width:23.04\"/>\n",
       "\t<line x1=\"3386.54\" y1=\"1866.46\" x2=\"3454.73\" y2=\"1904.32\" stroke-linecap=\"round\" style=\"stroke:#000000;stroke-width:23.04\"/>\n",
       "\t<line x1=\"3454.73\" y1=\"1904.32\" x2=\"3522.91\" y2=\"1949.49\" stroke-linecap=\"round\" style=\"stroke:#000000;stroke-width:23.04\"/>\n",
       "\t<line x1=\"3522.91\" y1=\"1949.49\" x2=\"3591.10\" y2=\"1974.00\" stroke-linecap=\"round\" style=\"stroke:#000000;stroke-width:23.04\"/>\n",
       "\t<line x1=\"3591.10\" y1=\"1974.00\" x2=\"3659.29\" y2=\"1999.99\" stroke-linecap=\"round\" style=\"stroke:#000000;stroke-width:23.04\"/>\n",
       "\t<line x1=\"3659.29\" y1=\"1999.99\" x2=\"3727.47\" y2=\"2035.75\" stroke-linecap=\"round\" style=\"stroke:#000000;stroke-width:23.04\"/>\n",
       "\t<line x1=\"3727.47\" y1=\"2035.75\" x2=\"3795.66\" y2=\"2081.29\" stroke-linecap=\"round\" style=\"stroke:#000000;stroke-width:23.04\"/>\n",
       "\t<line x1=\"390.80\" y1=\"2374.71\" x2=\"390.80\" y2=\"275.35\" style=\"stroke:#000000;stroke-width:5.76\"/>\n",
       "\t<line x1=\"390.80\" y1=\"2311.35\" x2=\"350.83\" y2=\"2311.35\" style=\"stroke:#000000;stroke-width:5.76\"/>\n",
       "\t<text x=\"300.72\" y=\"2311.35\" style=\"font-family:'Helvetica';font-size:99.99px;fill:#000000\" transform=\"rotate(-90 300.72,2311.35)\" text-anchor=\"middle\">0</text>\n",
       "\t<line x1=\"390.80\" y1=\"1834.77\" x2=\"350.83\" y2=\"1834.77\" style=\"stroke:#000000;stroke-width:5.76\"/>\n",
       "\t<text x=\"300.72\" y=\"1834.77\" style=\"font-family:'Helvetica';font-size:99.99px;fill:#000000\" transform=\"rotate(-90 300.72,1834.77)\" text-anchor=\"middle\">.5</text>\n",
       "\t<line x1=\"390.80\" y1=\"1358.20\" x2=\"350.83\" y2=\"1358.20\" style=\"stroke:#000000;stroke-width:5.76\"/>\n",
       "\t<text x=\"300.72\" y=\"1358.20\" style=\"font-family:'Helvetica';font-size:99.99px;fill:#000000\" transform=\"rotate(-90 300.72,1358.20)\" text-anchor=\"middle\">1</text>\n",
       "\t<line x1=\"390.80\" y1=\"881.62\" x2=\"350.83\" y2=\"881.62\" style=\"stroke:#000000;stroke-width:5.76\"/>\n",
       "\t<text x=\"300.72\" y=\"881.62\" style=\"font-family:'Helvetica';font-size:99.99px;fill:#000000\" transform=\"rotate(-90 300.72,881.62)\" text-anchor=\"middle\">1.5</text>\n",
       "\t<line x1=\"390.80\" y1=\"405.05\" x2=\"350.83\" y2=\"405.05\" style=\"stroke:#000000;stroke-width:5.76\"/>\n",
       "\t<text x=\"300.72\" y=\"405.05\" style=\"font-family:'Helvetica';font-size:99.99px;fill:#000000\" transform=\"rotate(-90 300.72,405.05)\" text-anchor=\"middle\">2</text>\n",
       "\t<text x=\"190.71\" y=\"1325.03\" style=\"font-family:'Helvetica';font-size:99.99px;fill:#000000\" transform=\"rotate(-90 190.71,1325.03)\" text-anchor=\"middle\">Density</text>\n",
       "\t<line x1=\"390.80\" y1=\"2374.71\" x2=\"3859.02\" y2=\"2374.71\" style=\"stroke:#000000;stroke-width:5.76\"/>\n",
       "\t<line x1=\"691.27\" y1=\"2374.71\" x2=\"691.27\" y2=\"2414.69\" style=\"stroke:#000000;stroke-width:5.76\"/>\n",
       "\t<text x=\"691.27\" y=\"2504.54\" style=\"font-family:'Helvetica';font-size:99.99px;fill:#000000\" text-anchor=\"middle\">-.4</text>\n",
       "\t<line x1=\"1440.70\" y1=\"2374.71\" x2=\"1440.70\" y2=\"2414.69\" style=\"stroke:#000000;stroke-width:5.76\"/>\n",
       "\t<text x=\"1440.70\" y=\"2504.54\" style=\"font-family:'Helvetica';font-size:99.99px;fill:#000000\" text-anchor=\"middle\">-.2</text>\n",
       "\t<line x1=\"2190.25\" y1=\"2374.71\" x2=\"2190.25\" y2=\"2414.69\" style=\"stroke:#000000;stroke-width:5.76\"/>\n",
       "\t<text x=\"2190.25\" y=\"2504.54\" style=\"font-family:'Helvetica';font-size:99.99px;fill:#000000\" text-anchor=\"middle\">0</text>\n",
       "\t<line x1=\"2939.80\" y1=\"2374.71\" x2=\"2939.80\" y2=\"2414.69\" style=\"stroke:#000000;stroke-width:5.76\"/>\n",
       "\t<text x=\"2939.80\" y=\"2504.54\" style=\"font-family:'Helvetica';font-size:99.99px;fill:#000000\" text-anchor=\"middle\">.2</text>\n",
       "\t<line x1=\"3689.36\" y1=\"2374.71\" x2=\"3689.36\" y2=\"2414.69\" style=\"stroke:#000000;stroke-width:5.76\"/>\n",
       "\t<text x=\"3689.36\" y=\"2504.54\" style=\"font-family:'Helvetica';font-size:99.99px;fill:#000000\" text-anchor=\"middle\">.4</text>\n",
       "\t<text x=\"2124.91\" y=\"2614.56\" style=\"font-family:'Helvetica';font-size:99.99px;fill:#000000\" text-anchor=\"middle\">_b[treatment]</text>\n",
       "\t<text x=\"408.00\" y=\"2737.89\" style=\"font-family:'Helvetica';font-size:79.94px;fill:#000000\">kernel = epanechnikov, bandwidth = 0.0703</text>\n",
       "\t<text x=\"2124.91\" y=\"215.98\" style=\"font-family:'Helvetica';font-size:139.96px;fill:#1E2D53\" text-anchor=\"middle\">Kernel density estimate</text>\n",
       "</svg>\n"
      ],
      "text/plain": [
       "This front-end cannot display the desired image type."
      ]
     },
     "metadata": {
      "image/svg+xml": {
       "height": 436,
       "width": 600
      }
     },
     "output_type": "display_data"
    }
   ],
   "source": [
    "graph use test.gph"
   ]
  }
 ],
 "metadata": {
  "kernelspec": {
   "display_name": "Stata",
   "language": "stata",
   "name": "stata"
  },
  "language_info": {
   "file_extension": ".do",
   "mimetype": "text/x-stata",
   "name": "stata"
  }
 },
 "nbformat": 4,
 "nbformat_minor": 2
}
